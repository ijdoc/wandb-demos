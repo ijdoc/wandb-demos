{
 "cells": [
  {
   "cell_type": "markdown",
   "id": "42ebdb47-2709-4a99-a93a-b07359861a21",
   "metadata": {},
   "source": [
    "# Setup"
   ]
  },
  {
   "cell_type": "code",
   "execution_count": null,
   "id": "6db7ff78-a9f2-44fc-84ab-5898c0a2d20b",
   "metadata": {
    "tags": []
   },
   "outputs": [],
   "source": [
    "!pip install numpy pillow wandb -q"
   ]
  },
  {
   "cell_type": "code",
   "execution_count": null,
   "id": "3e789f3c-cd5a-4493-8344-2dfa365c1000",
   "metadata": {
    "tags": []
   },
   "outputs": [],
   "source": [
    "import wandb\n",
    "import numpy as np\n",
    "from PIL import Image\n",
    "from IPython.display import display\n",
    "\n",
    "wandb.init(project=\"images_table\", job_type=\"media\")\n",
    "\n",
    "for epoch in range(22):\n",
    "    img_array = []\n",
    "    for i in range(3):\n",
    "        # Create a 25x25 image with random colors using NumPy\n",
    "        # The shape is (25, 25, 3) where 3 represents the RGB channels\n",
    "        img_array.append(np.random.randint(0, 256, (25, 25, 3), dtype=np.uint8))\n",
    "\n",
    "    images = [Image.fromarray(image, \"RGB\") for image in img_array]\n",
    "\n",
    "    wandb.log({\"samples\": [wandb.Image(image) for image in images]})\n",
    "\n",
    "    # Optional: show the image\n",
    "    # display(images)\n",
    "\n",
    "wandb.finish()"
   ]
  },
  {
   "cell_type": "code",
   "execution_count": null,
   "id": "c6dac635-8ba7-4e98-9091-a1be113ae964",
   "metadata": {
    "tags": []
   },
   "outputs": [],
   "source": [
    "import wandb\n",
    "import numpy as np\n",
    "from PIL import Image\n",
    "from IPython.display import display\n",
    "\n",
    "run = wandb.init(project=\"images_table\", job_type=\"table\")\n",
    "\n",
    "# Create a wandb Table\n",
    "wandb_table = wandb.Table(columns=[\"run\", \"url\", \"epoch\", \"im1\", \"im2\", \"im3\"])\n",
    "\n",
    "for epoch in range(22):\n",
    "    img_array = []\n",
    "    for i in range(3):\n",
    "        # Create a 25x25 image with random colors using NumPy\n",
    "        # The shape is (25, 25, 3) where 3 represents the RGB channels\n",
    "        img_array.append(np.random.randint(0, 256, (25, 25, 3), dtype=np.uint8))\n",
    "\n",
    "    images = [Image.fromarray(image, \"RGB\") for image in img_array]\n",
    "\n",
    "    wandb_table.add_data(\n",
    "        run.name,\n",
    "        run.url,\n",
    "        epoch,\n",
    "        wandb.Image(images[0]),\n",
    "        wandb.Image(images[1]),\n",
    "        wandb.Image(images[2]),\n",
    "    )\n",
    "\n",
    "wandb.log({\"samples_table\": wandb_table})\n",
    "wandb.finish()"
   ]
  },
  {
   "cell_type": "code",
   "execution_count": null,
   "id": "c5a6e378-f38c-40c1-b3af-c9eeffde7ab7",
   "metadata": {
    "tags": []
   },
   "outputs": [],
   "source": [
    "wandb.finish()"
   ]
  }
 ],
 "metadata": {
  "kernelspec": {
   "display_name": "Python 3 (ipykernel)",
   "language": "python",
   "name": "python3"
  },
  "language_info": {
   "codemirror_mode": {
    "name": "ipython",
    "version": 3
   },
   "file_extension": ".py",
   "mimetype": "text/x-python",
   "name": "python",
   "nbconvert_exporter": "python",
   "pygments_lexer": "ipython3",
   "version": "3.10.12"
  }
 },
 "nbformat": 4,
 "nbformat_minor": 5
}
