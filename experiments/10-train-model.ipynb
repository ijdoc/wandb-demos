{
 "cells": [
  {
   "cell_type": "markdown",
   "id": "bea450be-e06a-42b1-9465-139d997af95f",
   "metadata": {},
   "source": [
    "# Model Training"
   ]
  },
  {
   "cell_type": "markdown",
   "id": "701275dd-58de-481d-b550-3bbf8c25f891",
   "metadata": {},
   "source": [
    "## Import Libraries"
   ]
  },
  {
   "cell_type": "code",
   "execution_count": 7,
   "id": "00570fea-4c11-4cb9-9102-ae3ea83873d0",
   "metadata": {},
   "outputs": [
    {
     "name": "stdout",
     "output_type": "stream",
     "text": [
      "Requirement already satisfied: timm in /Users/jdoc/.local/share/virtualenvs/wandb-demos-tYeL1Ekq/lib/python3.10/site-packages (0.9.8)\n",
      "Requirement already satisfied: torch>=1.7 in /Users/jdoc/.local/share/virtualenvs/wandb-demos-tYeL1Ekq/lib/python3.10/site-packages (from timm) (2.1.0)\n",
      "Requirement already satisfied: torchvision in /Users/jdoc/.local/share/virtualenvs/wandb-demos-tYeL1Ekq/lib/python3.10/site-packages (from timm) (0.16.0)\n",
      "Requirement already satisfied: pyyaml in /Users/jdoc/.local/share/virtualenvs/wandb-demos-tYeL1Ekq/lib/python3.10/site-packages (from timm) (6.0.1)\n",
      "Requirement already satisfied: huggingface-hub in /Users/jdoc/.local/share/virtualenvs/wandb-demos-tYeL1Ekq/lib/python3.10/site-packages (from timm) (0.18.0)\n",
      "Requirement already satisfied: safetensors in /Users/jdoc/.local/share/virtualenvs/wandb-demos-tYeL1Ekq/lib/python3.10/site-packages (from timm) (0.4.0)\n",
      "Requirement already satisfied: filelock in /Users/jdoc/.local/share/virtualenvs/wandb-demos-tYeL1Ekq/lib/python3.10/site-packages (from torch>=1.7->timm) (3.13.1)\n",
      "Requirement already satisfied: typing-extensions in /Users/jdoc/.local/share/virtualenvs/wandb-demos-tYeL1Ekq/lib/python3.10/site-packages (from torch>=1.7->timm) (4.8.0)\n",
      "Requirement already satisfied: sympy in /Users/jdoc/.local/share/virtualenvs/wandb-demos-tYeL1Ekq/lib/python3.10/site-packages (from torch>=1.7->timm) (1.12)\n",
      "Requirement already satisfied: networkx in /Users/jdoc/.local/share/virtualenvs/wandb-demos-tYeL1Ekq/lib/python3.10/site-packages (from torch>=1.7->timm) (3.2.1)\n",
      "Requirement already satisfied: jinja2 in /Users/jdoc/.local/share/virtualenvs/wandb-demos-tYeL1Ekq/lib/python3.10/site-packages (from torch>=1.7->timm) (3.1.2)\n",
      "Requirement already satisfied: fsspec in /Users/jdoc/.local/share/virtualenvs/wandb-demos-tYeL1Ekq/lib/python3.10/site-packages (from torch>=1.7->timm) (2023.10.0)\n",
      "Requirement already satisfied: requests in /Users/jdoc/.local/share/virtualenvs/wandb-demos-tYeL1Ekq/lib/python3.10/site-packages (from huggingface-hub->timm) (2.31.0)\n",
      "Requirement already satisfied: tqdm>=4.42.1 in /Users/jdoc/.local/share/virtualenvs/wandb-demos-tYeL1Ekq/lib/python3.10/site-packages (from huggingface-hub->timm) (4.66.1)\n",
      "Requirement already satisfied: packaging>=20.9 in /Users/jdoc/.local/share/virtualenvs/wandb-demos-tYeL1Ekq/lib/python3.10/site-packages (from huggingface-hub->timm) (23.2)\n",
      "Requirement already satisfied: numpy in /Users/jdoc/.local/share/virtualenvs/wandb-demos-tYeL1Ekq/lib/python3.10/site-packages (from torchvision->timm) (1.26.1)\n",
      "Requirement already satisfied: pillow!=8.3.*,>=5.3.0 in /Users/jdoc/.local/share/virtualenvs/wandb-demos-tYeL1Ekq/lib/python3.10/site-packages (from torchvision->timm) (10.1.0)\n",
      "Requirement already satisfied: MarkupSafe>=2.0 in /Users/jdoc/.local/share/virtualenvs/wandb-demos-tYeL1Ekq/lib/python3.10/site-packages (from jinja2->torch>=1.7->timm) (2.1.3)\n",
      "Requirement already satisfied: charset-normalizer<4,>=2 in /Users/jdoc/.local/share/virtualenvs/wandb-demos-tYeL1Ekq/lib/python3.10/site-packages (from requests->huggingface-hub->timm) (3.3.2)\n",
      "Requirement already satisfied: idna<4,>=2.5 in /Users/jdoc/.local/share/virtualenvs/wandb-demos-tYeL1Ekq/lib/python3.10/site-packages (from requests->huggingface-hub->timm) (3.4)\n",
      "Requirement already satisfied: urllib3<3,>=1.21.1 in /Users/jdoc/.local/share/virtualenvs/wandb-demos-tYeL1Ekq/lib/python3.10/site-packages (from requests->huggingface-hub->timm) (2.0.7)\n",
      "Requirement already satisfied: certifi>=2017.4.17 in /Users/jdoc/.local/share/virtualenvs/wandb-demos-tYeL1Ekq/lib/python3.10/site-packages (from requests->huggingface-hub->timm) (2023.7.22)\n",
      "Requirement already satisfied: mpmath>=0.19 in /Users/jdoc/.local/share/virtualenvs/wandb-demos-tYeL1Ekq/lib/python3.10/site-packages (from sympy->torch>=1.7->timm) (1.3.0)\n",
      "Requirement already satisfied: matplotlib in /Users/jdoc/.local/share/virtualenvs/wandb-demos-tYeL1Ekq/lib/python3.10/site-packages (3.8.1)\n",
      "Requirement already satisfied: contourpy>=1.0.1 in /Users/jdoc/.local/share/virtualenvs/wandb-demos-tYeL1Ekq/lib/python3.10/site-packages (from matplotlib) (1.1.1)\n",
      "Requirement already satisfied: cycler>=0.10 in /Users/jdoc/.local/share/virtualenvs/wandb-demos-tYeL1Ekq/lib/python3.10/site-packages (from matplotlib) (0.12.1)\n",
      "Requirement already satisfied: fonttools>=4.22.0 in /Users/jdoc/.local/share/virtualenvs/wandb-demos-tYeL1Ekq/lib/python3.10/site-packages (from matplotlib) (4.43.1)\n",
      "Requirement already satisfied: kiwisolver>=1.3.1 in /Users/jdoc/.local/share/virtualenvs/wandb-demos-tYeL1Ekq/lib/python3.10/site-packages (from matplotlib) (1.4.5)\n",
      "Requirement already satisfied: numpy<2,>=1.21 in /Users/jdoc/.local/share/virtualenvs/wandb-demos-tYeL1Ekq/lib/python3.10/site-packages (from matplotlib) (1.26.1)\n",
      "Requirement already satisfied: packaging>=20.0 in /Users/jdoc/.local/share/virtualenvs/wandb-demos-tYeL1Ekq/lib/python3.10/site-packages (from matplotlib) (23.2)\n",
      "Requirement already satisfied: pillow>=8 in /Users/jdoc/.local/share/virtualenvs/wandb-demos-tYeL1Ekq/lib/python3.10/site-packages (from matplotlib) (10.1.0)\n",
      "Requirement already satisfied: pyparsing>=2.3.1 in /Users/jdoc/.local/share/virtualenvs/wandb-demos-tYeL1Ekq/lib/python3.10/site-packages (from matplotlib) (3.1.1)\n",
      "Requirement already satisfied: python-dateutil>=2.7 in /Users/jdoc/.local/share/virtualenvs/wandb-demos-tYeL1Ekq/lib/python3.10/site-packages (from matplotlib) (2.8.2)\n",
      "Requirement already satisfied: six>=1.5 in /Users/jdoc/.local/share/virtualenvs/wandb-demos-tYeL1Ekq/lib/python3.10/site-packages (from python-dateutil>=2.7->matplotlib) (1.16.0)\n",
      "Collecting pandas\n",
      "  Obtaining dependency information for pandas from https://files.pythonhosted.org/packages/c5/c5/c93e1b9e149208e0bf4a8daf6b6381601f6168a4667e8f31734c603231ab/pandas-2.1.2-cp310-cp310-macosx_11_0_arm64.whl.metadata\n",
      "  Downloading pandas-2.1.2-cp310-cp310-macosx_11_0_arm64.whl.metadata (18 kB)\n",
      "Requirement already satisfied: numpy<2,>=1.22.4 in /Users/jdoc/.local/share/virtualenvs/wandb-demos-tYeL1Ekq/lib/python3.10/site-packages (from pandas) (1.26.1)\n",
      "Requirement already satisfied: python-dateutil>=2.8.2 in /Users/jdoc/.local/share/virtualenvs/wandb-demos-tYeL1Ekq/lib/python3.10/site-packages (from pandas) (2.8.2)\n",
      "Collecting pytz>=2020.1 (from pandas)\n",
      "  Obtaining dependency information for pytz>=2020.1 from https://files.pythonhosted.org/packages/32/4d/aaf7eff5deb402fd9a24a1449a8119f00d74ae9c2efa79f8ef9994261fc2/pytz-2023.3.post1-py2.py3-none-any.whl.metadata\n",
      "  Downloading pytz-2023.3.post1-py2.py3-none-any.whl.metadata (22 kB)\n",
      "Collecting tzdata>=2022.1 (from pandas)\n",
      "  Downloading tzdata-2023.3-py2.py3-none-any.whl (341 kB)\n",
      "\u001b[2K     \u001b[38;2;114;156;31m━━━━━━━━━━━━━━━━━━━━━━━━━━━━━━━━━━━━━━━\u001b[0m \u001b[32m341.8/341.8 kB\u001b[0m \u001b[31m5.8 MB/s\u001b[0m eta \u001b[36m0:00:00\u001b[0m MB/s\u001b[0m eta \u001b[36m0:00:01\u001b[0m\n",
      "\u001b[?25hRequirement already satisfied: six>=1.5 in /Users/jdoc/.local/share/virtualenvs/wandb-demos-tYeL1Ekq/lib/python3.10/site-packages (from python-dateutil>=2.8.2->pandas) (1.16.0)\n",
      "Downloading pandas-2.1.2-cp310-cp310-macosx_11_0_arm64.whl (10.9 MB)\n",
      "\u001b[2K   \u001b[38;2;114;156;31m━━━━━━━━━━━━━━━━━━━━━━━━━━━━━━━━━━━━━━━━\u001b[0m \u001b[32m10.9/10.9 MB\u001b[0m \u001b[31m40.5 MB/s\u001b[0m eta \u001b[36m0:00:00\u001b[0mm eta \u001b[36m0:00:01\u001b[0m[36m0:00:01\u001b[0m\n",
      "\u001b[?25hDownloading pytz-2023.3.post1-py2.py3-none-any.whl (502 kB)\n",
      "\u001b[2K   \u001b[38;2;114;156;31m━━━━━━━━━━━━━━━━━━━━━━━━━━━━━━━━━━━━━━━━\u001b[0m \u001b[32m502.5/502.5 kB\u001b[0m \u001b[31m37.4 MB/s\u001b[0m eta \u001b[36m0:00:00\u001b[0m\n",
      "\u001b[?25hInstalling collected packages: pytz, tzdata, pandas\n",
      "Successfully installed pandas-2.1.2 pytz-2023.3.post1 tzdata-2023.3\n",
      "System Version: 3.10.12 (main, Sep 20 2023, 22:07:19) [Clang 15.0.0 (clang-1500.0.40.1)]\n",
      "PyTorch version 2.1.0\n",
      "Torchvision version 0.16.0\n",
      "Numpy version 1.26.1\n",
      "Pandas version 2.1.2\n"
     ]
    }
   ],
   "source": [
    "!pip install timm\n",
    "!pip install matplotlib\n",
    "!pip install pandas\n",
    "\n",
    "import torch\n",
    "import torch.nn as nn\n",
    "import torch.optim as optim\n",
    "from torch.utils.data import Dataset, DataLoader\n",
    "import torchvision\n",
    "import torchvision.transforms as transforms\n",
    "from torchvision.datasets import ImageFolder\n",
    "import timm # Where the model is stored\n",
    "\n",
    "import matplotlib.pyplot as plt # For data viz\n",
    "import pandas as pd\n",
    "import numpy as np\n",
    "import sys\n",
    "# from tqdm.notebook import tqdm\n",
    "\n",
    "print('System Version:', sys.version)\n",
    "print('PyTorch version', torch.__version__)\n",
    "print('Torchvision version', torchvision.__version__)\n",
    "print('Numpy version', np.__version__)\n",
    "print('Pandas version', pd.__version__)"
   ]
  },
  {
   "cell_type": "markdown",
   "id": "99f31302-c5cd-4837-baf0-4aa78ed585e9",
   "metadata": {
    "jp-MarkdownHeadingCollapsed": true
   },
   "source": [
    "## Download Artifact"
   ]
  },
  {
   "cell_type": "code",
   "execution_count": 1,
   "id": "5affcadf-abf7-4685-a2f0-8d1320d52b0b",
   "metadata": {},
   "outputs": [
    {
     "name": "stdout",
     "output_type": "stream",
     "text": [
      "Requirement already satisfied: wandb in /Users/jdoc/.local/share/virtualenvs/wandb-demos-tYeL1Ekq/lib/python3.10/site-packages (0.15.12)\n",
      "Requirement already satisfied: Click!=8.0.0,>=7.1 in /Users/jdoc/.local/share/virtualenvs/wandb-demos-tYeL1Ekq/lib/python3.10/site-packages (from wandb) (8.1.7)\n",
      "Requirement already satisfied: GitPython!=3.1.29,>=1.0.0 in /Users/jdoc/.local/share/virtualenvs/wandb-demos-tYeL1Ekq/lib/python3.10/site-packages (from wandb) (3.1.40)\n",
      "Requirement already satisfied: requests<3,>=2.0.0 in /Users/jdoc/.local/share/virtualenvs/wandb-demos-tYeL1Ekq/lib/python3.10/site-packages (from wandb) (2.31.0)\n",
      "Requirement already satisfied: psutil>=5.0.0 in /Users/jdoc/.local/share/virtualenvs/wandb-demos-tYeL1Ekq/lib/python3.10/site-packages (from wandb) (5.9.6)\n",
      "Requirement already satisfied: sentry-sdk>=1.0.0 in /Users/jdoc/.local/share/virtualenvs/wandb-demos-tYeL1Ekq/lib/python3.10/site-packages (from wandb) (1.34.0)\n",
      "Requirement already satisfied: docker-pycreds>=0.4.0 in /Users/jdoc/.local/share/virtualenvs/wandb-demos-tYeL1Ekq/lib/python3.10/site-packages (from wandb) (0.4.0)\n",
      "Requirement already satisfied: PyYAML in /Users/jdoc/.local/share/virtualenvs/wandb-demos-tYeL1Ekq/lib/python3.10/site-packages (from wandb) (6.0.1)\n",
      "Requirement already satisfied: pathtools in /Users/jdoc/.local/share/virtualenvs/wandb-demos-tYeL1Ekq/lib/python3.10/site-packages (from wandb) (0.1.2)\n",
      "Requirement already satisfied: setproctitle in /Users/jdoc/.local/share/virtualenvs/wandb-demos-tYeL1Ekq/lib/python3.10/site-packages (from wandb) (1.3.3)\n",
      "Requirement already satisfied: setuptools in /Users/jdoc/.local/share/virtualenvs/wandb-demos-tYeL1Ekq/lib/python3.10/site-packages (from wandb) (68.2.2)\n",
      "Requirement already satisfied: appdirs>=1.4.3 in /Users/jdoc/.local/share/virtualenvs/wandb-demos-tYeL1Ekq/lib/python3.10/site-packages (from wandb) (1.4.4)\n",
      "Requirement already satisfied: protobuf!=4.21.0,<5,>=3.19.0 in /Users/jdoc/.local/share/virtualenvs/wandb-demos-tYeL1Ekq/lib/python3.10/site-packages (from wandb) (4.25.0)\n",
      "Requirement already satisfied: six>=1.4.0 in /Users/jdoc/.local/share/virtualenvs/wandb-demos-tYeL1Ekq/lib/python3.10/site-packages (from docker-pycreds>=0.4.0->wandb) (1.16.0)\n",
      "Requirement already satisfied: gitdb<5,>=4.0.1 in /Users/jdoc/.local/share/virtualenvs/wandb-demos-tYeL1Ekq/lib/python3.10/site-packages (from GitPython!=3.1.29,>=1.0.0->wandb) (4.0.11)\n",
      "Requirement already satisfied: charset-normalizer<4,>=2 in /Users/jdoc/.local/share/virtualenvs/wandb-demos-tYeL1Ekq/lib/python3.10/site-packages (from requests<3,>=2.0.0->wandb) (3.3.2)\n",
      "Requirement already satisfied: idna<4,>=2.5 in /Users/jdoc/.local/share/virtualenvs/wandb-demos-tYeL1Ekq/lib/python3.10/site-packages (from requests<3,>=2.0.0->wandb) (3.4)\n",
      "Requirement already satisfied: urllib3<3,>=1.21.1 in /Users/jdoc/.local/share/virtualenvs/wandb-demos-tYeL1Ekq/lib/python3.10/site-packages (from requests<3,>=2.0.0->wandb) (2.0.7)\n",
      "Requirement already satisfied: certifi>=2017.4.17 in /Users/jdoc/.local/share/virtualenvs/wandb-demos-tYeL1Ekq/lib/python3.10/site-packages (from requests<3,>=2.0.0->wandb) (2023.7.22)\n",
      "Requirement already satisfied: smmap<6,>=3.0.1 in /Users/jdoc/.local/share/virtualenvs/wandb-demos-tYeL1Ekq/lib/python3.10/site-packages (from gitdb<5,>=4.0.1->GitPython!=3.1.29,>=1.0.0->wandb) (5.0.1)\n"
     ]
    },
    {
     "name": "stderr",
     "output_type": "stream",
     "text": [
      "\u001b[34m\u001b[1mwandb\u001b[0m: Currently logged in as: \u001b[33miamjdoc\u001b[0m (\u001b[33mteam-jdoc\u001b[0m). Use \u001b[1m`wandb login --relogin`\u001b[0m to force relogin\n"
     ]
    },
    {
     "data": {
      "text/html": [
       "Tracking run with wandb version 0.15.12"
      ],
      "text/plain": [
       "<IPython.core.display.HTML object>"
      ]
     },
     "metadata": {},
     "output_type": "display_data"
    },
    {
     "data": {
      "text/html": [
       "Run data is saved locally in <code>/Users/jdoc/repos/wandb-demos/experiments/wandb/run-20231102_202509-j65wavx6</code>"
      ],
      "text/plain": [
       "<IPython.core.display.HTML object>"
      ]
     },
     "metadata": {},
     "output_type": "display_data"
    },
    {
     "data": {
      "text/html": [
       "Syncing run <strong><a href='https://wandb.ai/team-jdoc/datasets/runs/j65wavx6' target=\"_blank\">deep-darkness-2</a></strong> to <a href='https://wandb.ai/team-jdoc/datasets' target=\"_blank\">Weights & Biases</a> (<a href='https://wandb.me/run' target=\"_blank\">docs</a>)<br/>"
      ],
      "text/plain": [
       "<IPython.core.display.HTML object>"
      ]
     },
     "metadata": {},
     "output_type": "display_data"
    },
    {
     "data": {
      "text/html": [
       " View project at <a href='https://wandb.ai/team-jdoc/datasets' target=\"_blank\">https://wandb.ai/team-jdoc/datasets</a>"
      ],
      "text/plain": [
       "<IPython.core.display.HTML object>"
      ]
     },
     "metadata": {},
     "output_type": "display_data"
    },
    {
     "data": {
      "text/html": [
       " View run at <a href='https://wandb.ai/team-jdoc/datasets/runs/j65wavx6' target=\"_blank\">https://wandb.ai/team-jdoc/datasets/runs/j65wavx6</a>"
      ],
      "text/plain": [
       "<IPython.core.display.HTML object>"
      ]
     },
     "metadata": {},
     "output_type": "display_data"
    },
    {
     "name": "stderr",
     "output_type": "stream",
     "text": [
      "\u001b[34m\u001b[1mwandb\u001b[0m: Downloading large artifact playing-cards:v0, 411.79MB. 8157 files... \n",
      "\u001b[34m\u001b[1mwandb\u001b[0m:   8157 of 8157 files downloaded.  \n",
      "Done. 0:0:20.2\n"
     ]
    },
    {
     "data": {
      "text/html": [
       "Waiting for W&B process to finish... <strong style=\"color:green\">(success).</strong>"
      ],
      "text/plain": [
       "<IPython.core.display.HTML object>"
      ]
     },
     "metadata": {},
     "output_type": "display_data"
    },
    {
     "data": {
      "text/html": [
       " View run <strong style=\"color:#cdcd00\">deep-darkness-2</strong> at: <a href='https://wandb.ai/team-jdoc/datasets/runs/j65wavx6' target=\"_blank\">https://wandb.ai/team-jdoc/datasets/runs/j65wavx6</a><br/> View job at <a href='https://wandb.ai/team-jdoc/datasets/jobs/QXJ0aWZhY3RDb2xsZWN0aW9uOjExMjI2NTQyNA==/version_details/v0' target=\"_blank\">https://wandb.ai/team-jdoc/datasets/jobs/QXJ0aWZhY3RDb2xsZWN0aW9uOjExMjI2NTQyNA==/version_details/v0</a><br/>Synced 6 W&B file(s), 0 media file(s), 3 artifact file(s) and 0 other file(s)"
      ],
      "text/plain": [
       "<IPython.core.display.HTML object>"
      ]
     },
     "metadata": {},
     "output_type": "display_data"
    },
    {
     "data": {
      "text/html": [
       "Find logs at: <code>./wandb/run-20231102_202509-j65wavx6/logs</code>"
      ],
      "text/plain": [
       "<IPython.core.display.HTML object>"
      ]
     },
     "metadata": {},
     "output_type": "display_data"
    }
   ],
   "source": [
    "!pip install wandb\n",
    "import wandb\n",
    "run = wandb.init(entity='team-jdoc', project='datasets', job_type='download')\n",
    "artifact = run.use_artifact('team-jdoc/datasets/playing-cards:v0', type='dataset')\n",
    "artifact_dir = artifact.download()\n",
    "wandb.finish()"
   ]
  },
  {
   "cell_type": "markdown",
   "id": "d4813613-9eeb-441b-8836-933c48dbdaae",
   "metadata": {},
   "source": [
    "## Prepare Data "
   ]
  },
  {
   "cell_type": "code",
   "execution_count": 12,
   "id": "420c6c6c-474b-4496-adac-45debf6fefaf",
   "metadata": {},
   "outputs": [
    {
     "data": {
      "image/png": "[encoded data removed]",
      "text/plain": [
       "<Figure size 640x480 with 1 Axes>"
      ]
     },
     "metadata": {},
     "output_type": "display_data"
    },
    {
     "name": "stdout",
     "output_type": "stream",
     "text": [
      "\n",
      "Image tensor size is: (3, 128, 128)\n",
      "Image batch shape: torch.Size([32, 3, 128, 128])\n",
      "Label batch shape: torch.Size([32])\n",
      "Batch labels: tensor([ 5, 37, 32, 29, 15, 21,  3, 42, 41, 23, 32, 44, 44, 35, 40, 27, 20, 14,\n",
      "        34, 28, 17, 29, 33, 48, 19, 48, 38, 40, 52, 48,  2,  0])\n"
     ]
    }
   ],
   "source": [
    "import random\n",
    "\n",
    "img_size = 128\n",
    "\n",
    "resize = transforms.Compose([\n",
    "    transforms.Resize((img_size, img_size)),\n",
    "])\n",
    "\n",
    "convert = transforms.Compose([\n",
    "    transforms.Resize((img_size, img_size)),\n",
    "    transforms.ToTensor(),\n",
    "])\n",
    "\n",
    "class PlayingCardsDataset(Dataset):\n",
    "  def __init__(self, data_dir, transform=None):\n",
    "    self.data = ImageFolder(data_dir, transform=transform)\n",
    "\n",
    "  def __len__(self):\n",
    "    return len(self.data)\n",
    "\n",
    "  def __getitem__(self, idx):\n",
    "      return self.data[idx]\n",
    "\n",
    "  @property\n",
    "  def classes(self):\n",
    "    return self.data.classes\n",
    "\n",
    "# Load raw dataset and display an example\n",
    "dataset = PlayingCardsDataset(\"./artifacts/playing-cards:v0/train\", transform=resize)\n",
    "image, label = random.choice(dataset)\n",
    "plt.imshow(image)\n",
    "plt.axis('off')  # Hide the axis\n",
    "plt.show()\n",
    "\n",
    "# Load datasets as tensors\n",
    "train_folder = './artifacts/playing-cards:v0/train/'\n",
    "valid_folder = './artifacts/playing-cards:v0/valid/'\n",
    "test_folder = './artifacts/playing-cards:v0/test/'\n",
    "\n",
    "train_dataset = PlayingCardsDataset(train_folder, transform=convert)\n",
    "val_dataset = PlayingCardsDataset(valid_folder, transform=convert)\n",
    "test_dataset = PlayingCardsDataset(test_folder, transform=convert)\n",
    "\n",
    "train_loader = DataLoader(train_dataset, batch_size=32, shuffle=True)\n",
    "val_loader = DataLoader(val_dataset, batch_size=32, shuffle=False)\n",
    "test_loader = DataLoader(val_dataset, batch_size=32, shuffle=False)\n",
    "\n",
    "image, label = random.choice(train_dataset)\n",
    "print(f\"\\nImage tensor size is: {tuple(image.shape)}\")\n",
    "\n",
    "for images, labels in train_loader:\n",
    "  break\n",
    "\n",
    "print(f\"Image batch shape: {images.shape}\")\n",
    "print(f\"Label batch shape: {labels.shape}\")\n",
    "print(f\"Batch labels: {labels}\")"
   ]
  },
  {
   "cell_type": "markdown",
   "id": "b731e6fe-8f0e-4085-89d2-e0329749ccc0",
   "metadata": {},
   "source": [
    "## Prepare Model"
   ]
  },
  {
   "cell_type": "code",
   "execution_count": 13,
   "id": "e9108adf-2e1e-4dc3-af12-c24a418235d2",
   "metadata": {},
   "outputs": [
    {
     "name": "stderr",
     "output_type": "stream",
     "text": [
      "model.safetensors: 100%|████████████████████████| 21.4M/21.4M [00:00<00:00, 43.1MB/s]\n"
     ]
    },
    {
     "data": {
      "text/plain": [
       "torch.Size([32, 53])"
      ]
     },
     "execution_count": 13,
     "metadata": {},
     "output_type": "execute_result"
    }
   ],
   "source": [
    "num_classes = len(dataset.classes)\n",
    "\n",
    "class CardClassifier(nn.Module):\n",
    "  def __init__(self, num_classes=53):\n",
    "    super(CardClassifier, self).__init__()\n",
    "\n",
    "    # Define base model\n",
    "    self.base_model = timm.create_model('efficientnet_b0', pretrained=True)\n",
    "\n",
    "    # Remove last layer\n",
    "    self.features = nn.Sequential(*list(self.base_model.children())[:-1])\n",
    "    # Keep a reference to the removed layer so we know how many connections\n",
    "    # we need for the new last layer\n",
    "    removed_layer = list(self.base_model.children())[-1]\n",
    "\n",
    "    # Recreate the last layer (the classifier)\n",
    "    self.classifier = nn.Sequential(\n",
    "        nn.Flatten(),\n",
    "        nn.Linear(removed_layer.in_features, num_classes)\n",
    "    )\n",
    "\n",
    "  def forward(self, x):\n",
    "    # Connect these parts and return the output\n",
    "    x = self.features(x)\n",
    "    return self.classifier(x)\n",
    "\n",
    "model = CardClassifier(num_classes)\n",
    "predictions = model(images)\n",
    "predictions.shape  # [batch_size, num_classes]"
   ]
  },
  {
   "cell_type": "markdown",
   "id": "e1e7d2e8-a1b8-44e8-b4bc-9e5dcf7238d7",
   "metadata": {},
   "source": [
    "## Training"
   ]
  },
  {
   "cell_type": "markdown",
   "id": "0d48f3ef-7b42-4940-9437-4236bb59748d",
   "metadata": {},
   "source": [
    "### Setup"
   ]
  },
  {
   "cell_type": "code",
   "execution_count": 16,
   "id": "a55a6ce0-fe94-4dce-8410-327f1377f7f9",
   "metadata": {},
   "outputs": [],
   "source": [
    "def init_training():\n",
    "    device = torch.device(\"cuda:0\" if torch.cuda.is_available() else \"cpu\")\n",
    "    print(f'Training on {device}')\n",
    "    model = CardClassifier(num_classes=53)\n",
    "    model.to(device)\n",
    "    # Loss function\n",
    "    loss_fn = nn.CrossEntropyLoss()\n",
    "    \n",
    "    # Optimizer\n",
    "    optimizer = optim.Adam(model.parameters(), lr=0.001)\n",
    "    return device, model, loss_fn, optimizer\n",
    "\n",
    "def learn(images, labels):\n",
    "    # Move inputs and labels to the device\n",
    "    images, labels = images.to(device), labels.to(device)\n",
    "    # Reset optimizer gradients\n",
    "    optimizer.zero_grad()\n",
    "    # Predict\n",
    "    outputs = model(images)\n",
    "    # Calculate loss\n",
    "    loss = loss_fn(outputs, labels)\n",
    "    # Back-propagate\n",
    "    loss.backward()\n",
    "    # Optimize\n",
    "    optimizer.step()\n",
    "    # Return the loss for this step\n",
    "    return model, optimizer, loss.item() * labels.size(0)\n",
    "\n",
    "def predict(images, labels):\n",
    "    # Move inputs and labels to the device\n",
    "    images, labels = images.to(device), labels.to(device)\n",
    "    # Predict\n",
    "    outputs = model(images)\n",
    "    # Calculate loss\n",
    "    loss = loss_fn(outputs, labels)\n",
    "    # Return the loss for this step\n",
    "    return loss.item() * labels.size(0)"
   ]
  },
  {
   "cell_type": "markdown",
   "id": "e834ab3d-6b7a-40c8-8de2-5f579e0123af",
   "metadata": {},
   "source": [
    "### Loop"
   ]
  },
  {
   "cell_type": "code",
   "execution_count": 17,
   "id": "1ecb9c09-4efc-4bf8-ad70-4105e4fa0928",
   "metadata": {},
   "outputs": [
    {
     "name": "stdout",
     "output_type": "stream",
     "text": [
      "Training on cpu\n"
     ]
    },
    {
     "ename": "KeyboardInterrupt",
     "evalue": "",
     "output_type": "error",
     "traceback": [
      "\u001b[0;31m---------------------------------------------------------------------------\u001b[0m",
      "\u001b[0;31mKeyboardInterrupt\u001b[0m                         Traceback (most recent call last)",
      "Cell \u001b[0;32mIn[17], line 10\u001b[0m\n\u001b[1;32m      8\u001b[0m running_loss \u001b[38;5;241m=\u001b[39m \u001b[38;5;241m0.0\u001b[39m\n\u001b[1;32m      9\u001b[0m \u001b[38;5;28;01mfor\u001b[39;00m images, labels \u001b[38;5;129;01min\u001b[39;00m train_loader:\n\u001b[0;32m---> 10\u001b[0m     running_loss \u001b[38;5;241m+\u001b[39m\u001b[38;5;241m=\u001b[39m \u001b[43mlearn\u001b[49m\u001b[43m(\u001b[49m\u001b[43mimages\u001b[49m\u001b[43m,\u001b[49m\u001b[43m \u001b[49m\u001b[43mlabels\u001b[49m\u001b[43m)\u001b[49m\n\u001b[1;32m     11\u001b[0m train_losses\u001b[38;5;241m.\u001b[39mappend(running_loss \u001b[38;5;241m/\u001b[39m \u001b[38;5;28mlen\u001b[39m(train_loader\u001b[38;5;241m.\u001b[39mdataset))\n\u001b[1;32m     13\u001b[0m \u001b[38;5;66;03m# Validation phase\u001b[39;00m\n",
      "Cell \u001b[0;32mIn[16], line 23\u001b[0m, in \u001b[0;36mlearn\u001b[0;34m(images, labels)\u001b[0m\n\u001b[1;32m     21\u001b[0m loss \u001b[38;5;241m=\u001b[39m loss_fn(outputs, labels)\n\u001b[1;32m     22\u001b[0m \u001b[38;5;66;03m# Back-propagate\u001b[39;00m\n\u001b[0;32m---> 23\u001b[0m \u001b[43mloss\u001b[49m\u001b[38;5;241;43m.\u001b[39;49m\u001b[43mbackward\u001b[49m\u001b[43m(\u001b[49m\u001b[43m)\u001b[49m\n\u001b[1;32m     24\u001b[0m \u001b[38;5;66;03m# Optimize\u001b[39;00m\n\u001b[1;32m     25\u001b[0m optimizer\u001b[38;5;241m.\u001b[39mstep()\n",
      "File \u001b[0;32m~/.local/share/virtualenvs/wandb-demos-tYeL1Ekq/lib/python3.10/site-packages/torch/_tensor.py:492\u001b[0m, in \u001b[0;36mTensor.backward\u001b[0;34m(self, gradient, retain_graph, create_graph, inputs)\u001b[0m\n\u001b[1;32m    482\u001b[0m \u001b[38;5;28;01mif\u001b[39;00m has_torch_function_unary(\u001b[38;5;28mself\u001b[39m):\n\u001b[1;32m    483\u001b[0m     \u001b[38;5;28;01mreturn\u001b[39;00m handle_torch_function(\n\u001b[1;32m    484\u001b[0m         Tensor\u001b[38;5;241m.\u001b[39mbackward,\n\u001b[1;32m    485\u001b[0m         (\u001b[38;5;28mself\u001b[39m,),\n\u001b[0;32m   (...)\u001b[0m\n\u001b[1;32m    490\u001b[0m         inputs\u001b[38;5;241m=\u001b[39minputs,\n\u001b[1;32m    491\u001b[0m     )\n\u001b[0;32m--> 492\u001b[0m \u001b[43mtorch\u001b[49m\u001b[38;5;241;43m.\u001b[39;49m\u001b[43mautograd\u001b[49m\u001b[38;5;241;43m.\u001b[39;49m\u001b[43mbackward\u001b[49m\u001b[43m(\u001b[49m\n\u001b[1;32m    493\u001b[0m \u001b[43m    \u001b[49m\u001b[38;5;28;43mself\u001b[39;49m\u001b[43m,\u001b[49m\u001b[43m \u001b[49m\u001b[43mgradient\u001b[49m\u001b[43m,\u001b[49m\u001b[43m \u001b[49m\u001b[43mretain_graph\u001b[49m\u001b[43m,\u001b[49m\u001b[43m \u001b[49m\u001b[43mcreate_graph\u001b[49m\u001b[43m,\u001b[49m\u001b[43m \u001b[49m\u001b[43minputs\u001b[49m\u001b[38;5;241;43m=\u001b[39;49m\u001b[43minputs\u001b[49m\n\u001b[1;32m    494\u001b[0m \u001b[43m\u001b[49m\u001b[43m)\u001b[49m\n",
      "File \u001b[0;32m~/.local/share/virtualenvs/wandb-demos-tYeL1Ekq/lib/python3.10/site-packages/torch/autograd/__init__.py:251\u001b[0m, in \u001b[0;36mbackward\u001b[0;34m(tensors, grad_tensors, retain_graph, create_graph, grad_variables, inputs)\u001b[0m\n\u001b[1;32m    246\u001b[0m     retain_graph \u001b[38;5;241m=\u001b[39m create_graph\n\u001b[1;32m    248\u001b[0m \u001b[38;5;66;03m# The reason we repeat the same comment below is that\u001b[39;00m\n\u001b[1;32m    249\u001b[0m \u001b[38;5;66;03m# some Python versions print out the first line of a multi-line function\u001b[39;00m\n\u001b[1;32m    250\u001b[0m \u001b[38;5;66;03m# calls in the traceback and some print out the last line\u001b[39;00m\n\u001b[0;32m--> 251\u001b[0m \u001b[43mVariable\u001b[49m\u001b[38;5;241;43m.\u001b[39;49m\u001b[43m_execution_engine\u001b[49m\u001b[38;5;241;43m.\u001b[39;49m\u001b[43mrun_backward\u001b[49m\u001b[43m(\u001b[49m\u001b[43m  \u001b[49m\u001b[38;5;66;43;03m# Calls into the C++ engine to run the backward pass\u001b[39;49;00m\n\u001b[1;32m    252\u001b[0m \u001b[43m    \u001b[49m\u001b[43mtensors\u001b[49m\u001b[43m,\u001b[49m\n\u001b[1;32m    253\u001b[0m \u001b[43m    \u001b[49m\u001b[43mgrad_tensors_\u001b[49m\u001b[43m,\u001b[49m\n\u001b[1;32m    254\u001b[0m \u001b[43m    \u001b[49m\u001b[43mretain_graph\u001b[49m\u001b[43m,\u001b[49m\n\u001b[1;32m    255\u001b[0m \u001b[43m    \u001b[49m\u001b[43mcreate_graph\u001b[49m\u001b[43m,\u001b[49m\n\u001b[1;32m    256\u001b[0m \u001b[43m    \u001b[49m\u001b[43minputs\u001b[49m\u001b[43m,\u001b[49m\n\u001b[1;32m    257\u001b[0m \u001b[43m    \u001b[49m\u001b[43mallow_unreachable\u001b[49m\u001b[38;5;241;43m=\u001b[39;49m\u001b[38;5;28;43;01mTrue\u001b[39;49;00m\u001b[43m,\u001b[49m\n\u001b[1;32m    258\u001b[0m \u001b[43m    \u001b[49m\u001b[43maccumulate_grad\u001b[49m\u001b[38;5;241;43m=\u001b[39;49m\u001b[38;5;28;43;01mTrue\u001b[39;49;00m\u001b[43m,\u001b[49m\n\u001b[1;32m    259\u001b[0m \u001b[43m\u001b[49m\u001b[43m)\u001b[49m\n",
      "\u001b[0;31mKeyboardInterrupt\u001b[0m: "
     ]
    }
   ],
   "source": [
    "epochs = 5\n",
    "\n",
    "device, model, loss_fn, optimizer = init_training()\n",
    "\n",
    "for epoch in range(epochs):\n",
    "    # Training\n",
    "    model.train()\n",
    "    running_loss = 0.0\n",
    "    for images, labels in train_loader:\n",
    "        running_loss += learn(images, labels)\n",
    "    train_losses.append(running_loss / len(train_loader.dataset))\n",
    "\n",
    "    # Validation\n",
    "    model.eval()\n",
    "    running_loss = 0.0\n",
    "    with torch.no_grad():\n",
    "        for images, labels in val_loader:\n",
    "            running_loss += predict(images, labels)\n",
    "    val_losses.append(running_loss / len(val_loader.dataset))\n",
    "    print(f\"Epoch {epoch+1}/{epochs} - Train loss: {train_loss}, Validation loss: {val_loss}\")"
   ]
  },
  {
   "cell_type": "code",
   "execution_count": null,
   "id": "13fb4f97-30eb-4c4a-a248-9b6d1c0368ff",
   "metadata": {},
   "outputs": [],
   "source": []
  }
 ],
 "metadata": {
  "kernelspec": {
   "display_name": "Python 3 (ipykernel)",
   "language": "python",
   "name": "python3"
  },
  "language_info": {
   "codemirror_mode": {
    "name": "ipython",
    "version": 3
   },
   "file_extension": ".py",
   "mimetype": "text/x-python",
   "name": "python",
   "nbconvert_exporter": "python",
   "pygments_lexer": "ipython3",
   "version": "3.10.12"
  }
 },
 "nbformat": 4,
 "nbformat_minor": 5
}
