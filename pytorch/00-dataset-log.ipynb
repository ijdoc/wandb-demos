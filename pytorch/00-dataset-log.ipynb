{
 "cells": [
  {
   "cell_type": "markdown",
   "id": "14fd779b-fa57-45e5-a675-3a9d3a02857a",
   "metadata": {},
   "source": [
    "[![Open In Colab](https://colab.research.google.com/assets/colab-badge.svg)](https://colab.research.google.com/github/ijdoc/wandb-demos/blob/main/pytorch/00-dataset-log.ipynb)"
   ]
  },
  {
   "cell_type": "markdown",
   "id": "bc118714-da2e-41fa-9206-193f7531fb08",
   "metadata": {},
   "source": [
    "# Log Dataset"
   ]
  },
  {
   "cell_type": "markdown",
   "id": "a894b121-14f0-478e-b893-fff45e669ab8",
   "metadata": {
    "jp-MarkdownHeadingCollapsed": true
   },
   "source": [
    "## [Retrieve Original](https://www.kaggle.com/datasets/gpiosenka/cards-image-datasetclassification/)"
   ]
  },
  {
   "cell_type": "markdown",
   "id": "3e97a460-ce02-4c3f-9aa3-a92b2698c027",
   "metadata": {
    "jp-MarkdownHeadingCollapsed": true
   },
   "source": [
    "## Unzip"
   ]
  },
  {
   "cell_type": "code",
   "execution_count": null,
   "id": "05f93843-7a95-485b-8b58-6ca9361b14c1",
   "metadata": {},
   "outputs": [],
   "source": [
    "import zipfile\n",
    "\n",
    "# Source path of the ZIP file in your Google Drive\n",
    "zip_file_path = \"./archive.zip\"\n",
    "\n",
    "# Destination path where you want to unzip the contents\n",
    "destination_folder = \"./data\"\n",
    "\n",
    "# Unzip the file\n",
    "with zipfile.ZipFile(zip_file_path, \"r\") as zip_ref:\n",
    "    zip_ref.extractall(destination_folder)"
   ]
  },
  {
   "cell_type": "markdown",
   "id": "cba4a143-a34f-4b2b-9419-d4d8d2c5ee87",
   "metadata": {},
   "source": [
    "## Log to W&B"
   ]
  },
  {
   "cell_type": "code",
   "execution_count": null,
   "id": "5740e298-3824-4144-9da7-cea70ee8c248",
   "metadata": {},
   "outputs": [],
   "source": [
    "!pip install wandb\n",
    "!wandb artifact put --name \"datasets/playing-cards\" --type dataset \"./data\""
   ]
  },
  {
   "cell_type": "markdown",
   "id": "5aa65f18-41a6-4024-88b2-c618dd34340c",
   "metadata": {
    "jp-MarkdownHeadingCollapsed": true
   },
   "source": [
    "## Clean Up"
   ]
  },
  {
   "cell_type": "code",
   "execution_count": null,
   "id": "11c0277b-798b-4f4b-aaa9-bc75bc311474",
   "metadata": {},
   "outputs": [],
   "source": [
    "!rm -rf data\n",
    "!rm -rf archive.zip"
   ]
  }
 ],
 "metadata": {
  "kernelspec": {
   "display_name": "Python 3 (ipykernel)",
   "language": "python",
   "name": "python3"
  },
  "language_info": {
   "codemirror_mode": {
    "name": "ipython",
    "version": 3
   },
   "file_extension": ".py",
   "mimetype": "text/x-python",
   "name": "python",
   "nbconvert_exporter": "python",
   "pygments_lexer": "ipython3",
   "version": "3.9.18"
  }
 },
 "nbformat": 4,
 "nbformat_minor": 5
}
