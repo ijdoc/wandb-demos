{
 "cells": [
  {
   "cell_type": "markdown",
   "id": "12b5d41f-b8bf-4e62-91a1-76ac26a4e55e",
   "metadata": {},
   "source": [
    "# Test GPU"
   ]
  },
  {
   "cell_type": "markdown",
   "id": "a566ba7f-f2e0-4a48-8ab0-06b6538d5db3",
   "metadata": {},
   "source": [
    "## Uninstall Pytorch (optional)"
   ]
  },
  {
   "cell_type": "code",
   "execution_count": null,
   "id": "4bd2da90-e670-4e38-9c4d-a85f6572205e",
   "metadata": {},
   "outputs": [],
   "source": [
    "!pip uninstall torch torchvision --yes"
   ]
  },
  {
   "cell_type": "markdown",
   "id": "0db600dd-f6fe-400e-81de-3e289627dede",
   "metadata": {},
   "source": [
    "## Install PyTorch with light-the-torch"
   ]
  },
  {
   "cell_type": "code",
   "execution_count": 1,
   "id": "7ad343dd-a327-409e-b2b8-e175c9a1f26a",
   "metadata": {},
   "outputs": [
    {
     "name": "stdout",
     "output_type": "stream",
     "text": [
      "Requirement already satisfied: light-the-torch in /home/jdoc/.local/share/virtualenvs/wandb-demos-Mz9mR-61/lib/python3.9/site-packages (0.7.5)\n",
      "Requirement already satisfied: pip<23.3,>=22.3 in /home/jdoc/.local/share/virtualenvs/wandb-demos-Mz9mR-61/lib/python3.9/site-packages (from light-the-torch) (23.2.1)\n",
      "Requirement already satisfied: torch in /home/jdoc/.local/share/virtualenvs/wandb-demos-Mz9mR-61/lib/python3.9/site-packages (2.1.0+cu118)\n",
      "Requirement already satisfied: torchvision in /home/jdoc/.local/share/virtualenvs/wandb-demos-Mz9mR-61/lib/python3.9/site-packages (0.16.0+cu118)\n",
      "Requirement already satisfied: filelock in /home/jdoc/.local/share/virtualenvs/wandb-demos-Mz9mR-61/lib/python3.9/site-packages (from torch) (3.13.1)\n",
      "Requirement already satisfied: typing-extensions in /home/jdoc/.local/share/virtualenvs/wandb-demos-Mz9mR-61/lib/python3.9/site-packages (from torch) (4.8.0)\n",
      "Requirement already satisfied: sympy in /home/jdoc/.local/share/virtualenvs/wandb-demos-Mz9mR-61/lib/python3.9/site-packages (from torch) (1.12)\n",
      "Requirement already satisfied: networkx in /home/jdoc/.local/share/virtualenvs/wandb-demos-Mz9mR-61/lib/python3.9/site-packages (from torch) (3.2.1)\n",
      "Requirement already satisfied: jinja2 in /home/jdoc/.local/share/virtualenvs/wandb-demos-Mz9mR-61/lib/python3.9/site-packages (from torch) (3.1.2)\n",
      "Requirement already satisfied: fsspec in /home/jdoc/.local/share/virtualenvs/wandb-demos-Mz9mR-61/lib/python3.9/site-packages (from torch) (2023.10.0)\n",
      "Requirement already satisfied: triton==2.1.0 in /home/jdoc/.local/share/virtualenvs/wandb-demos-Mz9mR-61/lib/python3.9/site-packages (from torch) (2.1.0)\n",
      "Requirement already satisfied: numpy in /home/jdoc/.local/share/virtualenvs/wandb-demos-Mz9mR-61/lib/python3.9/site-packages (from torchvision) (1.26.1)\n",
      "Requirement already satisfied: requests in /home/jdoc/.local/share/virtualenvs/wandb-demos-Mz9mR-61/lib/python3.9/site-packages (from torchvision) (2.31.0)\n",
      "Requirement already satisfied: pillow!=8.3.*,>=5.3.0 in /home/jdoc/.local/share/virtualenvs/wandb-demos-Mz9mR-61/lib/python3.9/site-packages (from torchvision) (10.1.0)\n",
      "Requirement already satisfied: MarkupSafe>=2.0 in /home/jdoc/.local/share/virtualenvs/wandb-demos-Mz9mR-61/lib/python3.9/site-packages (from jinja2->torch) (2.1.3)\n",
      "Requirement already satisfied: charset-normalizer<4,>=2 in /home/jdoc/.local/share/virtualenvs/wandb-demos-Mz9mR-61/lib/python3.9/site-packages (from requests->torchvision) (3.3.2)\n",
      "Requirement already satisfied: idna<4,>=2.5 in /home/jdoc/.local/share/virtualenvs/wandb-demos-Mz9mR-61/lib/python3.9/site-packages (from requests->torchvision) (3.4)\n",
      "Requirement already satisfied: urllib3<3,>=1.21.1 in /home/jdoc/.local/share/virtualenvs/wandb-demos-Mz9mR-61/lib/python3.9/site-packages (from requests->torchvision) (2.0.7)\n",
      "Requirement already satisfied: certifi>=2017.4.17 in /home/jdoc/.local/share/virtualenvs/wandb-demos-Mz9mR-61/lib/python3.9/site-packages (from requests->torchvision) (2023.7.22)\n",
      "Requirement already satisfied: mpmath>=0.19 in /home/jdoc/.local/share/virtualenvs/wandb-demos-Mz9mR-61/lib/python3.9/site-packages (from sympy->torch) (1.3.0)\n",
      "Training on cuda:0\n"
     ]
    }
   ],
   "source": [
    "!pip install light-the-torch\n",
    "!ltt install torch torchvision\n",
    "\n",
    "import torch\n",
    "\n",
    "device = torch.device(\"cuda:0\" if torch.cuda.is_available() else \"cpu\")\n",
    "print(f'Training on {device}')"
   ]
  },
  {
   "cell_type": "code",
   "execution_count": null,
   "id": "9be4d7ab-7b16-4964-8125-bff04e3a3599",
   "metadata": {},
   "outputs": [],
   "source": []
  }
 ],
 "metadata": {
  "kernelspec": {
   "display_name": "Python 3 (ipykernel)",
   "language": "python",
   "name": "python3"
  },
  "language_info": {
   "codemirror_mode": {
    "name": "ipython",
    "version": 3
   },
   "file_extension": ".py",
   "mimetype": "text/x-python",
   "name": "python",
   "nbconvert_exporter": "python",
   "pygments_lexer": "ipython3",
   "version": "3.9.18"
  }
 },
 "nbformat": 4,
 "nbformat_minor": 5
}
