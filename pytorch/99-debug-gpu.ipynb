{
 "cells": [
  {
   "cell_type": "markdown",
   "id": "f7cdf825-25bd-4b3b-a8f7-5d7f889cf0a4",
   "metadata": {},
   "source": [
    "[![Open In Colab](https://colab.research.google.com/assets/colab-badge.svg)](https://colab.research.google.com/github/ijdoc/wandb-demos/blob/main/pytorch/99-debug-gpu.ipynb)"
   ]
  },
  {
   "cell_type": "markdown",
   "id": "12b5d41f-b8bf-4e62-91a1-76ac26a4e55e",
   "metadata": {},
   "source": [
    "# Test GPU"
   ]
  },
  {
   "cell_type": "markdown",
   "id": "a566ba7f-f2e0-4a48-8ab0-06b6538d5db3",
   "metadata": {},
   "source": [
    "## Uninstall Pytorch (optional)"
   ]
  },
  {
   "cell_type": "code",
   "execution_count": null,
   "id": "4bd2da90-e670-4e38-9c4d-a85f6572205e",
   "metadata": {},
   "outputs": [],
   "source": [
    "!pip uninstall torch torchvision --yes\n"
   ]
  },
  {
   "cell_type": "markdown",
   "id": "0db600dd-f6fe-400e-81de-3e289627dede",
   "metadata": {},
   "source": [
    "## Install PyTorch with light-the-torch"
   ]
  },
  {
   "cell_type": "code",
   "execution_count": null,
   "id": "7ad343dd-a327-409e-b2b8-e175c9a1f26a",
   "metadata": {},
   "outputs": [],
   "source": [
    "!ltt install torch torchvision\n",
    "\n",
    "import torch\n",
    "\n",
    "device = torch.device(\"cuda:0\" if torch.cuda.is_available() else \"cpu\")\n",
    "print(f\"Training on {device}\")\n"
   ]
  }
 ],
 "metadata": {
  "kernelspec": {
   "display_name": "Python 3 (ipykernel)",
   "language": "python",
   "name": "python3"
  },
  "language_info": {
   "codemirror_mode": {
    "name": "ipython",
    "version": 3
   },
   "file_extension": ".py",
   "mimetype": "text/x-python",
   "name": "python",
   "nbconvert_exporter": "python",
   "pygments_lexer": "ipython3",
   "version": "3.9.18"
  }
 },
 "nbformat": 4,
 "nbformat_minor": 5
}
