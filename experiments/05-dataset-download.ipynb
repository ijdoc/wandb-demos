{
 "cells": [
  {
   "cell_type": "markdown",
   "id": "bdc7e731-c636-4ed2-80fa-74f943e333be",
   "metadata": {},
   "source": [
    "# Download Dataset"
   ]
  },
  {
   "cell_type": "code",
   "execution_count": null,
   "id": "581e4fbc-2b81-46ac-b827-e9e2dee39beb",
   "metadata": {},
   "outputs": [],
   "source": [
    "!pip install wandb\n",
    "import wandb\n",
    "run = wandb.init(entity='team-jdoc', project='datasets', job_type='download')\n",
    "artifact = run.use_artifact('team-jdoc/datasets/playing-cards:v0', type='dataset')\n",
    "artifact_dir = artifact.download()\n",
    "print(f'Dataset downloaded to {artifact_dir}')\n",
    "wandb.finish()"
   ]
  }
 ],
 "metadata": {
  "kernelspec": {
   "display_name": "Python 3 (ipykernel)",
   "language": "python",
   "name": "python3"
  },
  "language_info": {
   "codemirror_mode": {
    "name": "ipython",
    "version": 3
   },
   "file_extension": ".py",
   "mimetype": "text/x-python",
   "name": "python",
   "nbconvert_exporter": "python",
   "pygments_lexer": "ipython3",
   "version": "3.10.12"
  }
 },
 "nbformat": 4,
 "nbformat_minor": 5
}
