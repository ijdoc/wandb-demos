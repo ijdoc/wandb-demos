{
 "cells": [
  {
   "cell_type": "code",
   "execution_count": null,
   "id": "b2f5cb4f-8215-4772-bd96-3c1386a705d5",
   "metadata": {
    "tags": []
   },
   "outputs": [],
   "source": [
    "!pip install wandb openai -q"
   ]
  },
  {
   "cell_type": "code",
   "execution_count": null,
   "id": "be62decb-7d6f-4120-b398-6f8c4162b521",
   "metadata": {},
   "outputs": [],
   "source": [
    "import os\n",
    "\n",
    "# import openai\n",
    "# from wandb.integration.openai import autolog\n",
    "\n",
    "# autolog({\"project\": \"financial_helper\"})\n",
    "# openai.api_key = os.environ[\"OPEN_AI_API_KEY\"]\n",
    "\n",
    "print(len(os.environ[\"OPEN_AI_API_KEY\"]))"
   ]
  },
  {
   "cell_type": "code",
   "execution_count": null,
   "id": "be7d1486-2431-4fa0-b502-54f77783fddc",
   "metadata": {
    "tags": []
   },
   "outputs": [],
   "source": [
    "import wandb\n",
    "\n",
    "wandb.finish()"
   ]
  }
 ],
 "metadata": {
  "kernelspec": {
   "display_name": "Python 3 (ipykernel)",
   "language": "python",
   "name": "python3"
  },
  "language_info": {
   "codemirror_mode": {
    "name": "ipython",
    "version": 3
   },
   "file_extension": ".py",
   "mimetype": "text/x-python",
   "name": "python",
   "nbconvert_exporter": "python",
   "pygments_lexer": "ipython3",
   "version": "3.10.12"
  }
 },
 "nbformat": 4,
 "nbformat_minor": 5
}
