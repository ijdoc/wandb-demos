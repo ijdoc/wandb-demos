{
 "cells": [
  {
   "cell_type": "markdown",
   "id": "bfd93245-1b23-4a69-98e8-e6bff567bfce",
   "metadata": {},
   "source": [
    "- Sample [segmentation report](https://wandb.ai/k-galliamov/uw_madison/reports/UW-Madison-GI-tract-image-segmentation-report--Vmlldzo0MjcxNDA0)"
   ]
  },
  {
   "cell_type": "markdown",
   "id": "65a06b9f-f3a1-43cf-a257-edd237c73513",
   "metadata": {
    "tags": []
   },
   "source": [
    "# Setup"
   ]
  },
  {
   "cell_type": "markdown",
   "id": "b018fe0c-9cd4-441e-aa24-9ea2e03be1aa",
   "metadata": {
    "tags": []
   },
   "source": [
    "## Install Dependencies"
   ]
  },
  {
   "cell_type": "code",
   "execution_count": null,
   "id": "1c284cca-103e-426d-b477-af76e37b99f8",
   "metadata": {
    "tags": []
   },
   "outputs": [],
   "source": [
    "!pip install kaggle wandb -q"
   ]
  },
  {
   "cell_type": "markdown",
   "id": "d372d187-7515-4eff-9f28-23624b0bedc2",
   "metadata": {
    "jp-MarkdownHeadingCollapsed": true,
    "tags": []
   },
   "source": [
    "## Data"
   ]
  },
  {
   "cell_type": "markdown",
   "id": "b01865f9-f2cc-4df9-95d8-bcd9b7ef77c3",
   "metadata": {
    "tags": []
   },
   "source": [
    "### Download"
   ]
  },
  {
   "cell_type": "code",
   "execution_count": null,
   "id": "4010d08a-d739-4cc4-90d8-a15fc1bc40b9",
   "metadata": {
    "tags": []
   },
   "outputs": [],
   "source": [
    "!kaggle competitions download -c uw-madison-gi-tract-image-segmentation"
   ]
  },
  {
   "cell_type": "markdown",
   "id": "33de7bda-4cad-4124-8ee2-3b527855e084",
   "metadata": {},
   "source": [
    "### Unzip"
   ]
  },
  {
   "cell_type": "code",
   "execution_count": null,
   "id": "ffaf712c-42fd-44c4-ab8f-f6c35516792d",
   "metadata": {
    "tags": []
   },
   "outputs": [],
   "source": [
    "import zipfile\n",
    "\n",
    "# Source path of the ZIP file in your Google Drive\n",
    "zip_file_path = \"./uw-madison-gi-tract-image-segmentation.zip\"\n",
    "\n",
    "# Destination path where you want to unzip the contents\n",
    "destination_folder = \"./data\"\n",
    "\n",
    "# Unzip the file\n",
    "with zipfile.ZipFile(zip_file_path, \"r\") as zip_ref:\n",
    "    zip_ref.extractall(destination_folder)"
   ]
  },
  {
   "cell_type": "markdown",
   "id": "46098db8-185b-4cd0-8b0c-00365ec02904",
   "metadata": {},
   "source": [
    "# Log Masks"
   ]
  },
  {
   "cell_type": "code",
   "execution_count": null,
   "id": "7b901898-5c81-4431-bb8b-4530a37fd4c3",
   "metadata": {},
   "outputs": [],
   "source": [
    "import os\n",
    "import random\n",
    "import numpy as np\n",
    "import wandb\n",
    "import glob\n",
    "import pandas as pd\n",
    "from PIL import Image\n",
    "\n",
    "# Disable wandb logging\n",
    "# os.environ[\"WANDB_MODE\"] = \"disabled\"\n",
    "\n",
    "\n",
    "# Function to decode RLE\n",
    "def rle_decode(mask_rle, shape):\n",
    "    \"\"\"\n",
    "    Decode RLE-encoded mask into a binary mask.\n",
    "\n",
    "    Parameters:\n",
    "    mask_rle (str): run-length as string formatted (start length)\n",
    "    shape (tuple): (height, width) of array to return\n",
    "\n",
    "    Returns:\n",
    "    numpy.ndarray: Binary mask\n",
    "    \"\"\"\n",
    "    print(mask_rle)\n",
    "    s = mask_rle.split()\n",
    "    starts, lengths = [np.asarray(x, dtype=int) for x in (s[0:][::2], s[1:][::2])]\n",
    "    starts -= 1\n",
    "    ends = starts + lengths\n",
    "    img = np.zeros(shape[0] * shape[1], dtype=np.uint8)\n",
    "    for lo, hi in zip(starts, ends):\n",
    "        img[lo:hi] = 1\n",
    "    return img.reshape(shape).T  # Needed to align to RLE direction\n",
    "\n",
    "\n",
    "# Function to load image\n",
    "def load_image(img_id):\n",
    "    \"\"\"\n",
    "    Load an image based on the id.\n",
    "\n",
    "    Parameters:\n",
    "    img_id (str): Image identifier\n",
    "\n",
    "    Returns:\n",
    "    numpy.ndarray: Image array\n",
    "    \"\"\"\n",
    "\n",
    "    # id: case67_day0_slice_0107\n",
    "    # path: data/train/case101/case101_day20/scans/slice_0003_266_266_1.50_1.50.png\n",
    "    substrings = img_id.split(\"_\")\n",
    "    case = substrings[0]\n",
    "    day = substrings[1]\n",
    "    slice_str = \"_\".join(substrings[2:])\n",
    "    base_path = \"./data/train/\"\n",
    "    img_path = os.path.join(\n",
    "        base_path, case, \"_\".join(substrings[:2]), \"scans\", slice_str\n",
    "    )\n",
    "    matches = glob.glob(f\"{img_path}*.png\")\n",
    "    print(img_id)\n",
    "    print(matches[0])\n",
    "    img = Image.open(matches[0])\n",
    "\n",
    "    # Convert to numpy array\n",
    "    image_np = np.array(img)\n",
    "\n",
    "    # Normalize to 8-bit\n",
    "    image_8bit = (image_np / np.max(image_np) * 255).astype(np.uint8)\n",
    "\n",
    "    # Convert back to a PIL image\n",
    "    img = Image.fromarray(image_8bit)\n",
    "    return img\n",
    "\n",
    "\n",
    "# Initialize wandb\n",
    "wandb.init(project=\"gi-tract-segmentation\", mode=\"online\")\n",
    "\n",
    "# Read CSV file\n",
    "df = pd.read_csv(\"./data/train.csv\")\n",
    "\n",
    "# Filter out rows with NaN segmentation\n",
    "df_filtered = df.dropna(subset=[\"segmentation\"])\n",
    "\n",
    "# Randomly select 10 unique ids\n",
    "unique_ids = df_filtered[\"id\"].unique()\n",
    "selected_ids = random.sample(list(unique_ids), 22)\n",
    "print(selected_ids)\n",
    "\n",
    "# Filter the DataFrame\n",
    "filtered_df = df_filtered[df_filtered[\"id\"].isin(selected_ids)]\n",
    "\n",
    "unique_labels = filtered_df[\"class\"].unique()\n",
    "labels = {}\n",
    "labels_inverse = {}\n",
    "classes = []\n",
    "i = 1\n",
    "for label in list(unique_labels):\n",
    "    labels[i] = label\n",
    "    labels_inverse[label] = i\n",
    "    classes.append({\"name\": label, \"id\": i})\n",
    "    i += 1\n",
    "\n",
    "labels[0] = \"unknown\"\n",
    "labels_inverse[\"unknown\"] = 0\n",
    "classes.append({\"name\": \"unknown\", \"id\": 0})\n",
    "\n",
    "class_set = wandb.Classes(classes)\n",
    "print(labels)\n",
    "print(classes)\n",
    "\n",
    "# Create a wandb Table\n",
    "columns = [\"id\", \"image\"]\n",
    "wandb_table = wandb.Table(columns=columns)\n",
    "current_img = \"\"\n",
    "mask = np.empty((266, 266), dtype=np.uint8)\n",
    "\n",
    "for index, row in filtered_df.iterrows():\n",
    "    img_id = row[\"id\"]\n",
    "    img = load_image(img_id)\n",
    "    if img.size == (266, 266):\n",
    "        if current_img != img_id:\n",
    "            if current_img != \"\":\n",
    "                # TODO: Add previous image\n",
    "                masked_image = wandb.Image(\n",
    "                    img,\n",
    "                    masks={\n",
    "                        \"ground_truth\": {\"mask_data\": mask, \"class_labels\": labels},\n",
    "                    },\n",
    "                    classes=class_set,\n",
    "                )\n",
    "                wandb_table.add_data(current_img, masked_image)\n",
    "                mask = np.empty((266, 266), dtype=np.uint8)\n",
    "            current_img = img_id\n",
    "        class_id = labels_inverse[row[\"class\"]]\n",
    "        mask += rle_decode(row[\"segmentation\"], img.size) * class_id\n",
    "\n",
    "\n",
    "# Log the table to wandb\n",
    "wandb.log({\"segmentation_samples\": wandb_table})\n",
    "wandb.finish()"
   ]
  },
  {
   "cell_type": "code",
   "execution_count": null,
   "id": "03264f11-2548-4da2-a3a9-19233fc59256",
   "metadata": {
    "tags": []
   },
   "outputs": [],
   "source": [
    "img.show()"
   ]
  }
 ],
 "metadata": {
  "kernelspec": {
   "display_name": "Python 3 (ipykernel)",
   "language": "python",
   "name": "python3"
  },
  "language_info": {
   "codemirror_mode": {
    "name": "ipython",
    "version": 3
   },
   "file_extension": ".py",
   "mimetype": "text/x-python",
   "name": "python",
   "nbconvert_exporter": "python",
   "pygments_lexer": "ipython3",
   "version": "3.10.12"
  }
 },
 "nbformat": 4,
 "nbformat_minor": 5
}
