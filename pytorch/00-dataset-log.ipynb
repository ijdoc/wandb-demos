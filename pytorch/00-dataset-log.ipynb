{
 "cells": [
  {
   "cell_type": "markdown",
   "id": "14fd779b-fa57-45e5-a675-3a9d3a02857a",
   "metadata": {},
   "source": [
    "[![Open In Colab](https://colab.research.google.com/assets/colab-badge.svg)](https://colab.research.google.com/github/ijdoc/wandb-demos/blob/main/pytorch/00-dataset-log.ipynb)"
   ]
  },
  {
   "cell_type": "markdown",
   "id": "bc118714-da2e-41fa-9206-193f7531fb08",
   "metadata": {},
   "source": [
    "# Log Dataset"
   ]
  },
  {
   "cell_type": "markdown",
   "id": "a894b121-14f0-478e-b893-fff45e669ab8",
   "metadata": {
    "jp-MarkdownHeadingCollapsed": true
   },
   "source": [
    "## [Retrieve Original](https://www.kaggle.com/datasets/gpiosenka/cards-image-datasetclassification/)"
   ]
  },
  {
   "cell_type": "markdown",
   "id": "3e97a460-ce02-4c3f-9aa3-a92b2698c027",
   "metadata": {
    "jp-MarkdownHeadingCollapsed": true
   },
   "source": [
    "## Unzip"
   ]
  },
  {
   "cell_type": "code",
   "execution_count": 12,
   "id": "05f93843-7a95-485b-8b58-6ca9361b14c1",
   "metadata": {},
   "outputs": [],
   "source": [
    "import zipfile\n",
    "\n",
    "# Source path of the ZIP file in your Google Drive\n",
    "zip_file_path = './archive.zip'\n",
    "\n",
    "# Destination path where you want to unzip the contents\n",
    "destination_folder = './data'\n",
    "\n",
    "# Unzip the file\n",
    "with zipfile.ZipFile(zip_file_path, 'r') as zip_ref:\n",
    "    zip_ref.extractall(destination_folder)"
   ]
  },
  {
   "cell_type": "markdown",
   "id": "cba4a143-a34f-4b2b-9419-d4d8d2c5ee87",
   "metadata": {},
   "source": [
    "## Log to W&B"
   ]
  },
  {
   "cell_type": "code",
   "execution_count": 4,
   "id": "5740e298-3824-4144-9da7-cea70ee8c248",
   "metadata": {},
   "outputs": [
    {
     "name": "stdout",
     "output_type": "stream",
     "text": [
      "Requirement already satisfied: wandb in /Users/jdoc/.local/share/virtualenvs/wandb-demos-tYeL1Ekq/lib/python3.10/site-packages (0.15.12)\n",
      "Requirement already satisfied: Click!=8.0.0,>=7.1 in /Users/jdoc/.local/share/virtualenvs/wandb-demos-tYeL1Ekq/lib/python3.10/site-packages (from wandb) (8.1.7)\n",
      "Requirement already satisfied: GitPython!=3.1.29,>=1.0.0 in /Users/jdoc/.local/share/virtualenvs/wandb-demos-tYeL1Ekq/lib/python3.10/site-packages (from wandb) (3.1.40)\n",
      "Requirement already satisfied: requests<3,>=2.0.0 in /Users/jdoc/.local/share/virtualenvs/wandb-demos-tYeL1Ekq/lib/python3.10/site-packages (from wandb) (2.31.0)\n",
      "Requirement already satisfied: psutil>=5.0.0 in /Users/jdoc/.local/share/virtualenvs/wandb-demos-tYeL1Ekq/lib/python3.10/site-packages (from wandb) (5.9.6)\n",
      "Requirement already satisfied: sentry-sdk>=1.0.0 in /Users/jdoc/.local/share/virtualenvs/wandb-demos-tYeL1Ekq/lib/python3.10/site-packages (from wandb) (1.34.0)\n",
      "Requirement already satisfied: docker-pycreds>=0.4.0 in /Users/jdoc/.local/share/virtualenvs/wandb-demos-tYeL1Ekq/lib/python3.10/site-packages (from wandb) (0.4.0)\n",
      "Requirement already satisfied: PyYAML in /Users/jdoc/.local/share/virtualenvs/wandb-demos-tYeL1Ekq/lib/python3.10/site-packages (from wandb) (6.0.1)\n",
      "Requirement already satisfied: pathtools in /Users/jdoc/.local/share/virtualenvs/wandb-demos-tYeL1Ekq/lib/python3.10/site-packages (from wandb) (0.1.2)\n",
      "Requirement already satisfied: setproctitle in /Users/jdoc/.local/share/virtualenvs/wandb-demos-tYeL1Ekq/lib/python3.10/site-packages (from wandb) (1.3.3)\n",
      "Requirement already satisfied: setuptools in /Users/jdoc/.local/share/virtualenvs/wandb-demos-tYeL1Ekq/lib/python3.10/site-packages (from wandb) (68.2.2)\n",
      "Requirement already satisfied: appdirs>=1.4.3 in /Users/jdoc/.local/share/virtualenvs/wandb-demos-tYeL1Ekq/lib/python3.10/site-packages (from wandb) (1.4.4)\n",
      "Requirement already satisfied: protobuf!=4.21.0,<5,>=3.19.0 in /Users/jdoc/.local/share/virtualenvs/wandb-demos-tYeL1Ekq/lib/python3.10/site-packages (from wandb) (4.25.0)\n",
      "Requirement already satisfied: six>=1.4.0 in /Users/jdoc/.local/share/virtualenvs/wandb-demos-tYeL1Ekq/lib/python3.10/site-packages (from docker-pycreds>=0.4.0->wandb) (1.16.0)\n",
      "Requirement already satisfied: gitdb<5,>=4.0.1 in /Users/jdoc/.local/share/virtualenvs/wandb-demos-tYeL1Ekq/lib/python3.10/site-packages (from GitPython!=3.1.29,>=1.0.0->wandb) (4.0.11)\n",
      "Requirement already satisfied: charset-normalizer<4,>=2 in /Users/jdoc/.local/share/virtualenvs/wandb-demos-tYeL1Ekq/lib/python3.10/site-packages (from requests<3,>=2.0.0->wandb) (3.3.2)\n",
      "Requirement already satisfied: idna<4,>=2.5 in /Users/jdoc/.local/share/virtualenvs/wandb-demos-tYeL1Ekq/lib/python3.10/site-packages (from requests<3,>=2.0.0->wandb) (3.4)\n",
      "Requirement already satisfied: urllib3<3,>=1.21.1 in /Users/jdoc/.local/share/virtualenvs/wandb-demos-tYeL1Ekq/lib/python3.10/site-packages (from requests<3,>=2.0.0->wandb) (2.0.7)\n",
      "Requirement already satisfied: certifi>=2017.4.17 in /Users/jdoc/.local/share/virtualenvs/wandb-demos-tYeL1Ekq/lib/python3.10/site-packages (from requests<3,>=2.0.0->wandb) (2023.7.22)\n",
      "Requirement already satisfied: smmap<6,>=3.0.1 in /Users/jdoc/.local/share/virtualenvs/wandb-demos-tYeL1Ekq/lib/python3.10/site-packages (from gitdb<5,>=4.0.1->GitPython!=3.1.29,>=1.0.0->wandb) (5.0.1)\n",
      "\u001b[34m\u001b[1mwandb\u001b[0m: Uploading directory ./data to: \"team-jdoc/datasets/playing-cards:latest\" (dataset)\n",
      "\u001b[34m\u001b[1mwandb\u001b[0m: Adding directory to artifact (./data)... Done. 2.8s\n",
      "\u001b[34m\u001b[1mwandb\u001b[0m: Currently logged in as: \u001b[33miamjdoc\u001b[0m (\u001b[33mteam-jdoc\u001b[0m). Use \u001b[1m`wandb login --relogin`\u001b[0m to force relogin\n",
      "\u001b[34m\u001b[1mwandb\u001b[0m: Tracking run with wandb version 0.15.12\n",
      "\u001b[34m\u001b[1mwandb\u001b[0m: Run data is saved locally in \u001b[35m\u001b[1m/Users/jdoc/repos/wandb-demos/experiments/wandb/run-20231102_200351-m961qf8s\u001b[0m\n",
      "\u001b[34m\u001b[1mwandb\u001b[0m: Run \u001b[1m`wandb offline`\u001b[0m to turn off syncing.\n",
      "\u001b[34m\u001b[1mwandb\u001b[0m: Syncing run \u001b[33mfirm-firefly-1\u001b[0m\n",
      "\u001b[34m\u001b[1mwandb\u001b[0m: ⭐️ View project at \u001b[34m\u001b[4mhttps://wandb.ai/team-jdoc/datasets\u001b[0m\n",
      "\u001b[34m\u001b[1mwandb\u001b[0m: 🚀 View run at \u001b[34m\u001b[4mhttps://wandb.ai/team-jdoc/datasets/runs/m961qf8s\u001b[0m\n",
      "Artifact uploaded, use this artifact in a run by adding:\n",
      "\n",
      "    artifact = run.use_artifact(\"team-jdoc/datasets/playing-cards:v0\")\n",
      "\n",
      "\u001b[34m\u001b[1mwandb\u001b[0m: Waiting for W&B process to finish... \u001b[32m(success).\u001b[0m\n",
      "\u001b[34m\u001b[1mwandb\u001b[0m: 🚀 View run \u001b[33mfirm-firefly-1\u001b[0m at: \u001b[34m\u001b[4mhttps://wandb.ai/team-jdoc/datasets/runs/m961qf8s\u001b[0m\n",
      "\u001b[34m\u001b[1mwandb\u001b[0m: Synced 6 W&B file(s), 0 media file(s), 8157 artifact file(s) and 0 other file(s)\n",
      "\u001b[34m\u001b[1mwandb\u001b[0m: Find logs at: \u001b[35m\u001b[1m./wandb/run-20231102_200351-m961qf8s/logs\u001b[0m\n"
     ]
    }
   ],
   "source": [
    "!pip install wandb\n",
    "!wandb artifact put --name \"datasets/playing-cards\" --type dataset \"./data\""
   ]
  },
  {
   "cell_type": "markdown",
   "id": "5aa65f18-41a6-4024-88b2-c618dd34340c",
   "metadata": {
    "jp-MarkdownHeadingCollapsed": true
   },
   "source": [
    "## Clean Up"
   ]
  },
  {
   "cell_type": "code",
   "execution_count": 5,
   "id": "11c0277b-798b-4f4b-aaa9-bc75bc311474",
   "metadata": {},
   "outputs": [],
   "source": [
    "!rm -rf data\n",
    "!rm -rf archive.zip"
   ]
  }
 ],
 "metadata": {
  "kernelspec": {
   "display_name": "Python 3 (ipykernel)",
   "language": "python",
   "name": "python3"
  },
  "language_info": {
   "codemirror_mode": {
    "name": "ipython",
    "version": 3
   },
   "file_extension": ".py",
   "mimetype": "text/x-python",
   "name": "python",
   "nbconvert_exporter": "python",
   "pygments_lexer": "ipython3",
   "version": "3.9.18"
  }
 },
 "nbformat": 4,
 "nbformat_minor": 5
}
